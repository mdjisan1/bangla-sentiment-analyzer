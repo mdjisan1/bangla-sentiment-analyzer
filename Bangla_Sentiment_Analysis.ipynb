{
 "cells": [
  {
   "cell_type": "markdown",
   "metadata": {},
   "source": [
    "# **Importing Necessary Library**"
   ]
  },
  {
   "cell_type": "code",
   "execution_count": 1,
   "metadata": {},
   "outputs": [
    {
     "name": "stderr",
     "output_type": "stream",
     "text": [
      "c:\\Users\\SapphireFang\\anaconda3\\envs\\Knull\\lib\\site-packages\\tqdm\\auto.py:21: TqdmWarning: IProgress not found. Please update jupyter and ipywidgets. See https://ipywidgets.readthedocs.io/en/stable/user_install.html\n",
      "  from .autonotebook import tqdm as notebook_tqdm\n"
     ]
    }
   ],
   "source": [
    "import re\n",
    "import torch\n",
    "import unicodedata\n",
    "import pandas as pd\n",
    "import seaborn as sns\n",
    "import matplotlib.pyplot as plt\n",
    "from torch.utils.data import Dataset\n",
    "from sklearn.model_selection import train_test_split\n",
    "from sklearn.metrics import classification_report, confusion_matrix, precision_recall_fscore_support\n",
    "from transformers import AutoTokenizer, AutoModelForSequenceClassification, Trainer, TrainingArguments, EvalPrediction"
   ]
  },
  {
   "cell_type": "markdown",
   "metadata": {},
   "source": [
    "# **Checking GPU Avaibility**"
   ]
  },
  {
   "cell_type": "code",
   "execution_count": 2,
   "metadata": {},
   "outputs": [
    {
     "name": "stdout",
     "output_type": "stream",
     "text": [
      "GPU is available\n",
      "Number of available GPUs: 1\n",
      "GPU 0: NVIDIA GeForce RTX 3060\n",
      "Using device: cuda:0\n"
     ]
    }
   ],
   "source": [
    "# Check GPU availability\n",
    "if torch.cuda.is_available():\n",
    "    print('GPU is available')\n",
    "else:\n",
    "    print('No GPU detected')\n",
    "\n",
    "# Number of available GPUs\n",
    "num_gpus = torch.cuda.device_count()\n",
    "\n",
    "if num_gpus > 0:\n",
    "    print(f\"Number of available GPUs: {num_gpus}\")\n",
    "    for i in range(num_gpus):\n",
    "        print(f\"GPU {i}: {torch.cuda.get_device_name(i)}\")\n",
    "else:\n",
    "    print(\"No GPUs available\")\n",
    "\n",
    "# Set device\n",
    "device = torch.device('cuda:0' if torch.cuda.is_available() else 'cpu')\n",
    "print(f'Using device: {device}')"
   ]
  },
  {
   "cell_type": "markdown",
   "metadata": {},
   "source": [
    "# **Dataset Path**"
   ]
  },
  {
   "cell_type": "code",
   "execution_count": 3,
   "metadata": {},
   "outputs": [],
   "source": [
    "df = pd.read_csv('D:\\\\Technoheven\\\\data\\\\Bangla-Text-Dataset.csv')"
   ]
  },
  {
   "cell_type": "markdown",
   "metadata": {},
   "source": [
    "# **Dataset Information**"
   ]
  },
  {
   "cell_type": "code",
   "execution_count": 4,
   "metadata": {},
   "outputs": [
    {
     "name": "stdout",
     "output_type": "stream",
     "text": [
      "<class 'pandas.core.frame.DataFrame'>\n",
      "RangeIndex: 44001 entries, 0 to 44000\n",
      "Data columns (total 5 columns):\n",
      " #   Column                Non-Null Count  Dtype  \n",
      "---  ------                --------------  -----  \n",
      " 0   comment               44001 non-null  object \n",
      " 1   Category              44001 non-null  object \n",
      " 2   Gender                44001 non-null  object \n",
      " 3   comment react number  43998 non-null  float64\n",
      " 4   label                 44001 non-null  object \n",
      "dtypes: float64(1), object(4)\n",
      "memory usage: 1.7+ MB\n"
     ]
    }
   ],
   "source": [
    "df.info()"
   ]
  },
  {
   "cell_type": "code",
   "execution_count": 5,
   "metadata": {},
   "outputs": [
    {
     "data": {
      "text/html": [
       "<div>\n",
       "<style scoped>\n",
       "    .dataframe tbody tr th:only-of-type {\n",
       "        vertical-align: middle;\n",
       "    }\n",
       "\n",
       "    .dataframe tbody tr th {\n",
       "        vertical-align: top;\n",
       "    }\n",
       "\n",
       "    .dataframe thead th {\n",
       "        text-align: right;\n",
       "    }\n",
       "</style>\n",
       "<table border=\"1\" class=\"dataframe\">\n",
       "  <thead>\n",
       "    <tr style=\"text-align: right;\">\n",
       "      <th></th>\n",
       "      <th>comment</th>\n",
       "      <th>Category</th>\n",
       "      <th>Gender</th>\n",
       "      <th>comment react number</th>\n",
       "      <th>label</th>\n",
       "    </tr>\n",
       "  </thead>\n",
       "  <tbody>\n",
       "    <tr>\n",
       "      <th>0</th>\n",
       "      <td>ওই হালার পুত এখন কি মদ খাওয়ার সময় রাতের বেলা...</td>\n",
       "      <td>Actor</td>\n",
       "      <td>Female</td>\n",
       "      <td>1.0</td>\n",
       "      <td>sexual</td>\n",
       "    </tr>\n",
       "    <tr>\n",
       "      <th>1</th>\n",
       "      <td>ঘরে বসে শুট করতে কেমন লেগেছে? ক্যামেরাতে কে ছি...</td>\n",
       "      <td>Singer</td>\n",
       "      <td>Male</td>\n",
       "      <td>2.0</td>\n",
       "      <td>not bully</td>\n",
       "    </tr>\n",
       "    <tr>\n",
       "      <th>2</th>\n",
       "      <td>অরে বাবা, এই টা কোন পাগল????</td>\n",
       "      <td>Actor</td>\n",
       "      <td>Female</td>\n",
       "      <td>2.0</td>\n",
       "      <td>not bully</td>\n",
       "    </tr>\n",
       "    <tr>\n",
       "      <th>3</th>\n",
       "      <td>ক্যাপ্টেন অফ বাংলাদেশ</td>\n",
       "      <td>Sports</td>\n",
       "      <td>Male</td>\n",
       "      <td>0.0</td>\n",
       "      <td>not bully</td>\n",
       "    </tr>\n",
       "    <tr>\n",
       "      <th>4</th>\n",
       "      <td>পটকা মাছ</td>\n",
       "      <td>Politician</td>\n",
       "      <td>Male</td>\n",
       "      <td>0.0</td>\n",
       "      <td>troll</td>\n",
       "    </tr>\n",
       "  </tbody>\n",
       "</table>\n",
       "</div>"
      ],
      "text/plain": [
       "                                             comment    Category  Gender  \\\n",
       "0  ওই হালার পুত এখন কি মদ খাওয়ার সময় রাতের বেলা...       Actor  Female   \n",
       "1  ঘরে বসে শুট করতে কেমন লেগেছে? ক্যামেরাতে কে ছি...      Singer    Male   \n",
       "2                       অরে বাবা, এই টা কোন পাগল????       Actor  Female   \n",
       "3                              ক্যাপ্টেন অফ বাংলাদেশ      Sports    Male   \n",
       "4                                           পটকা মাছ  Politician    Male   \n",
       "\n",
       "   comment react number      label  \n",
       "0                   1.0     sexual  \n",
       "1                   2.0  not bully  \n",
       "2                   2.0  not bully  \n",
       "3                   0.0  not bully  \n",
       "4                   0.0      troll  "
      ]
     },
     "execution_count": 5,
     "metadata": {},
     "output_type": "execute_result"
    }
   ],
   "source": [
    "df.head()"
   ]
  },
  {
   "cell_type": "code",
   "execution_count": 6,
   "metadata": {},
   "outputs": [
    {
     "data": {
      "text/html": [
       "<div>\n",
       "<style scoped>\n",
       "    .dataframe tbody tr th:only-of-type {\n",
       "        vertical-align: middle;\n",
       "    }\n",
       "\n",
       "    .dataframe tbody tr th {\n",
       "        vertical-align: top;\n",
       "    }\n",
       "\n",
       "    .dataframe thead th {\n",
       "        text-align: right;\n",
       "    }\n",
       "</style>\n",
       "<table border=\"1\" class=\"dataframe\">\n",
       "  <thead>\n",
       "    <tr style=\"text-align: right;\">\n",
       "      <th></th>\n",
       "      <th>comment</th>\n",
       "      <th>Category</th>\n",
       "      <th>Gender</th>\n",
       "      <th>comment react number</th>\n",
       "      <th>label</th>\n",
       "    </tr>\n",
       "  </thead>\n",
       "  <tbody>\n",
       "    <tr>\n",
       "      <th>43996</th>\n",
       "      <td>হিরো আলম,, এগিয়ে যাও</td>\n",
       "      <td>Social</td>\n",
       "      <td>Male</td>\n",
       "      <td>0.0</td>\n",
       "      <td>not bully</td>\n",
       "    </tr>\n",
       "    <tr>\n",
       "      <th>43997</th>\n",
       "      <td>হিরো আলমকে সাপোর্ট দেওয়ার জন্য অসংখ্য ধন্যবাদ...</td>\n",
       "      <td>Social</td>\n",
       "      <td>Male</td>\n",
       "      <td>1.0</td>\n",
       "      <td>not bully</td>\n",
       "    </tr>\n",
       "    <tr>\n",
       "      <th>43998</th>\n",
       "      <td>হিরো ভাই তুমি এগিয়ে য়াও</td>\n",
       "      <td>Social</td>\n",
       "      <td>Male</td>\n",
       "      <td>0.0</td>\n",
       "      <td>not bully</td>\n",
       "    </tr>\n",
       "    <tr>\n",
       "      <th>43999</th>\n",
       "      <td>হুম ভাও তোমরা এগিয়ে যাও আমরা তোমাদের পিছনে আছি</td>\n",
       "      <td>Actor</td>\n",
       "      <td>Female</td>\n",
       "      <td>1.0</td>\n",
       "      <td>not bully</td>\n",
       "    </tr>\n",
       "    <tr>\n",
       "      <th>44000</th>\n",
       "      <td>হ্যালো তোমাদের সাথে কি আমাকে চ্যাট করবে</td>\n",
       "      <td>Social</td>\n",
       "      <td>Male</td>\n",
       "      <td>0.0</td>\n",
       "      <td>not bully</td>\n",
       "    </tr>\n",
       "  </tbody>\n",
       "</table>\n",
       "</div>"
      ],
      "text/plain": [
       "                                                 comment Category  Gender  \\\n",
       "43996                               হিরো আলম,, এগিয়ে যাও   Social    Male   \n",
       "43997  হিরো আলমকে সাপোর্ট দেওয়ার জন্য অসংখ্য ধন্যবাদ...   Social    Male   \n",
       "43998                            হিরো ভাই তুমি এগিয়ে য়াও   Social    Male   \n",
       "43999     হুম ভাও তোমরা এগিয়ে যাও আমরা তোমাদের পিছনে আছি    Actor  Female   \n",
       "44000            হ্যালো তোমাদের সাথে কি আমাকে চ্যাট করবে   Social    Male   \n",
       "\n",
       "       comment react number      label  \n",
       "43996                   0.0  not bully  \n",
       "43997                   1.0  not bully  \n",
       "43998                   0.0  not bully  \n",
       "43999                   1.0  not bully  \n",
       "44000                   0.0  not bully  "
      ]
     },
     "execution_count": 6,
     "metadata": {},
     "output_type": "execute_result"
    }
   ],
   "source": [
    "df.tail()"
   ]
  },
  {
   "cell_type": "code",
   "execution_count": 7,
   "metadata": {},
   "outputs": [],
   "source": [
    "df = df[[\"comment\", \"label\"]]"
   ]
  },
  {
   "cell_type": "code",
   "execution_count": 8,
   "metadata": {},
   "outputs": [
    {
     "name": "stdout",
     "output_type": "stream",
     "text": [
      "<class 'pandas.core.frame.DataFrame'>\n",
      "RangeIndex: 44001 entries, 0 to 44000\n",
      "Data columns (total 2 columns):\n",
      " #   Column   Non-Null Count  Dtype \n",
      "---  ------   --------------  ----- \n",
      " 0   comment  44001 non-null  object\n",
      " 1   label    44001 non-null  object\n",
      "dtypes: object(2)\n",
      "memory usage: 687.6+ KB\n"
     ]
    }
   ],
   "source": [
    "df.info()"
   ]
  },
  {
   "cell_type": "code",
   "execution_count": 9,
   "metadata": {},
   "outputs": [
    {
     "name": "stdout",
     "output_type": "stream",
     "text": [
      "-----Label distribution-----\n",
      "label\n",
      "not bully    15340\n",
      "troll        10462\n",
      "sexual        8928\n",
      "religious     7577\n",
      "threat        1694\n",
      "Name: count, dtype: int64\n"
     ]
    }
   ],
   "source": [
    "# Check the label distribution\n",
    "print(\"-----Label distribution-----\")\n",
    "print(df['label'].value_counts())"
   ]
  },
  {
   "cell_type": "markdown",
   "metadata": {},
   "source": [
    "# **Dataset Label Distribution Visualize**"
   ]
  },
  {
   "cell_type": "code",
   "execution_count": 10,
   "metadata": {},
   "outputs": [
    {
     "name": "stderr",
     "output_type": "stream",
     "text": [
      "C:\\Users\\SapphireFang\\AppData\\Local\\Temp\\ipykernel_20572\\1740153592.py:3: FutureWarning: \n",
      "\n",
      "Passing `palette` without assigning `hue` is deprecated and will be removed in v0.14.0. Assign the `x` variable to `hue` and set `legend=False` for the same effect.\n",
      "\n",
      "  sns.countplot(x=df['label'], palette=\"Set1\")\n"
     ]
    },
    {
     "data": {
      "image/png": "[encoded data removed]",
      "text/plain": [
       "<Figure size 600x400 with 1 Axes>"
      ]
     },
     "metadata": {},
     "output_type": "display_data"
    }
   ],
   "source": [
    "# Visualize the label distribution\n",
    "plt.figure(figsize=(6, 4))\n",
    "sns.countplot(x=df['label'], palette=\"Set1\")\n",
    "plt.title('Distribution of Sentiment Categories')\n",
    "plt.xlabel('Label')\n",
    "plt.ylabel('Count')\n",
    "plt.tight_layout()\n",
    "plt.show()"
   ]
  },
  {
   "cell_type": "markdown",
   "metadata": {},
   "source": [
    "# **Data Preprocessing**"
   ]
  },
  {
   "cell_type": "markdown",
   "metadata": {},
   "source": [
    "* Removed url's, emojis, punctuation and speacial characters, extra spaces\n",
    "* Unicode normalization"
   ]
  },
  {
   "cell_type": "code",
   "execution_count": 11,
   "metadata": {},
   "outputs": [],
   "source": [
    "# Data Preprocessing\n",
    "def preprocess_bangla_text(text):\n",
    "    \"\"\"\n",
    "    Preprocess Bangla text by removing special symbols, emojis, URLs, and extra spaces.\n",
    "    Apply Unicode normalization.\n",
    "    \"\"\"\n",
    "    if not isinstance(text, str):\n",
    "        return \"\"\n",
    "    \n",
    "    # Remove URLs\n",
    "    text = re.sub(r'https?://\\S+|www\\.\\S+', '', text)\n",
    "    \n",
    "    # Remove emojis (basic implementation)\n",
    "    emoji_pattern = re.compile(\"[\"\n",
    "                               u\"\\U0001F600-\\U0001F64F\"  # emoticons\n",
    "                               u\"\\U0001F300-\\U0001F5FF\"  # symbols & pictographs\n",
    "                               u\"\\U0001F680-\\U0001F6FF\"  # transport & map symbols\n",
    "                               u\"\\U0001F700-\\U0001F77F\"  # alchemical symbols\n",
    "                               u\"\\U0001F780-\\U0001F7FF\"  # Geometric Shapes\n",
    "                               u\"\\U0001F800-\\U0001F8FF\"  # Supplemental Arrows-C\n",
    "                               u\"\\U0001F900-\\U0001F9FF\"  # Supplemental Symbols and Pictographs\n",
    "                               u\"\\U0001FA00-\\U0001FA6F\"  # Chess Symbols\n",
    "                               u\"\\U0001FA70-\\U0001FAFF\"  # Symbols and Pictographs Extended-A\n",
    "                               u\"\\U00002702-\\U000027B0\"  # Dingbats\n",
    "                               u\"\\U000024C2-\\U0001F251\" \n",
    "                               \"]+\", flags=re.UNICODE)\n",
    "    text = emoji_pattern.sub(r'', text)\n",
    "    \n",
    "    # Remove special characters (keep Bangla characters and basic punctuation)\n",
    "    text = re.sub(r'[^\\w\\s\\u0980-\\u09FF]', '', text)\n",
    "    \n",
    "    # Remove extra spaces\n",
    "    text = re.sub(r'\\s+', ' ', text).strip()\n",
    "    \n",
    "    # Apply Unicode normalization (NFC for composed characters)\n",
    "    text = unicodedata.normalize('NFC', text)\n",
    "    \n",
    "    return text"
   ]
  },
  {
   "cell_type": "code",
   "execution_count": 12,
   "metadata": {},
   "outputs": [],
   "source": [
    "# Apply preprocessing\n",
    "df['processed_text'] = df['comment'].astype(str).apply(preprocess_bangla_text)"
   ]
  },
  {
   "cell_type": "code",
   "execution_count": 13,
   "metadata": {},
   "outputs": [
    {
     "data": {
      "text/html": [
       "<div>\n",
       "<style scoped>\n",
       "    .dataframe tbody tr th:only-of-type {\n",
       "        vertical-align: middle;\n",
       "    }\n",
       "\n",
       "    .dataframe tbody tr th {\n",
       "        vertical-align: top;\n",
       "    }\n",
       "\n",
       "    .dataframe thead th {\n",
       "        text-align: right;\n",
       "    }\n",
       "</style>\n",
       "<table border=\"1\" class=\"dataframe\">\n",
       "  <thead>\n",
       "    <tr style=\"text-align: right;\">\n",
       "      <th></th>\n",
       "      <th>comment</th>\n",
       "      <th>label</th>\n",
       "      <th>processed_text</th>\n",
       "    </tr>\n",
       "  </thead>\n",
       "  <tbody>\n",
       "    <tr>\n",
       "      <th>0</th>\n",
       "      <td>ওই হালার পুত এখন কি মদ খাওয়ার সময় রাতের বেলা...</td>\n",
       "      <td>sexual</td>\n",
       "      <td>ওই হালার পুত এখন কি মদ খাওয়ার সময় রাতের বেলা...</td>\n",
       "    </tr>\n",
       "    <tr>\n",
       "      <th>1</th>\n",
       "      <td>ঘরে বসে শুট করতে কেমন লেগেছে? ক্যামেরাতে কে ছি...</td>\n",
       "      <td>not bully</td>\n",
       "      <td>ঘরে বসে শুট করতে কেমন লেগেছে ক্যামেরাতে কে ছিলেন</td>\n",
       "    </tr>\n",
       "    <tr>\n",
       "      <th>2</th>\n",
       "      <td>অরে বাবা, এই টা কোন পাগল????</td>\n",
       "      <td>not bully</td>\n",
       "      <td>অরে বাবা এই টা কোন পাগল</td>\n",
       "    </tr>\n",
       "    <tr>\n",
       "      <th>3</th>\n",
       "      <td>ক্যাপ্টেন অফ বাংলাদেশ</td>\n",
       "      <td>not bully</td>\n",
       "      <td>ক্যাপ্টেন অফ বাংলাদেশ</td>\n",
       "    </tr>\n",
       "    <tr>\n",
       "      <th>4</th>\n",
       "      <td>পটকা মাছ</td>\n",
       "      <td>troll</td>\n",
       "      <td>পটকা মাছ</td>\n",
       "    </tr>\n",
       "    <tr>\n",
       "      <th>...</th>\n",
       "      <td>...</td>\n",
       "      <td>...</td>\n",
       "      <td>...</td>\n",
       "    </tr>\n",
       "    <tr>\n",
       "      <th>43996</th>\n",
       "      <td>হিরো আলম,, এগিয়ে যাও</td>\n",
       "      <td>not bully</td>\n",
       "      <td>হিরো আলম এগিয়ে যাও</td>\n",
       "    </tr>\n",
       "    <tr>\n",
       "      <th>43997</th>\n",
       "      <td>হিরো আলমকে সাপোর্ট দেওয়ার জন্য অসংখ্য ধন্যবাদ...</td>\n",
       "      <td>not bully</td>\n",
       "      <td>হিরো আলমকে সাপোর্ট দেওয়ার জন্য অসংখ্য ধন্যবাদ...</td>\n",
       "    </tr>\n",
       "    <tr>\n",
       "      <th>43998</th>\n",
       "      <td>হিরো ভাই তুমি এগিয়ে য়াও</td>\n",
       "      <td>not bully</td>\n",
       "      <td>হিরো ভাই তুমি এগিয়ে য়াও</td>\n",
       "    </tr>\n",
       "    <tr>\n",
       "      <th>43999</th>\n",
       "      <td>হুম ভাও তোমরা এগিয়ে যাও আমরা তোমাদের পিছনে আছি</td>\n",
       "      <td>not bully</td>\n",
       "      <td>হুম ভাও তোমরা এগিয়ে যাও আমরা তোমাদের পিছনে আছি</td>\n",
       "    </tr>\n",
       "    <tr>\n",
       "      <th>44000</th>\n",
       "      <td>হ্যালো তোমাদের সাথে কি আমাকে চ্যাট করবে</td>\n",
       "      <td>not bully</td>\n",
       "      <td>হ্যালো তোমাদের সাথে কি আমাকে চ্যাট করবে</td>\n",
       "    </tr>\n",
       "  </tbody>\n",
       "</table>\n",
       "<p>44001 rows × 3 columns</p>\n",
       "</div>"
      ],
      "text/plain": [
       "                                                 comment      label  \\\n",
       "0      ওই হালার পুত এখন কি মদ খাওয়ার সময় রাতের বেলা...     sexual   \n",
       "1      ঘরে বসে শুট করতে কেমন লেগেছে? ক্যামেরাতে কে ছি...  not bully   \n",
       "2                           অরে বাবা, এই টা কোন পাগল????  not bully   \n",
       "3                                  ক্যাপ্টেন অফ বাংলাদেশ  not bully   \n",
       "4                                               পটকা মাছ      troll   \n",
       "...                                                  ...        ...   \n",
       "43996                               হিরো আলম,, এগিয়ে যাও  not bully   \n",
       "43997  হিরো আলমকে সাপোর্ট দেওয়ার জন্য অসংখ্য ধন্যবাদ...  not bully   \n",
       "43998                            হিরো ভাই তুমি এগিয়ে য়াও  not bully   \n",
       "43999     হুম ভাও তোমরা এগিয়ে যাও আমরা তোমাদের পিছনে আছি  not bully   \n",
       "44000            হ্যালো তোমাদের সাথে কি আমাকে চ্যাট করবে  not bully   \n",
       "\n",
       "                                          processed_text  \n",
       "0      ওই হালার পুত এখন কি মদ খাওয়ার সময় রাতের বেলা...  \n",
       "1       ঘরে বসে শুট করতে কেমন লেগেছে ক্যামেরাতে কে ছিলেন  \n",
       "2                                অরে বাবা এই টা কোন পাগল  \n",
       "3                                  ক্যাপ্টেন অফ বাংলাদেশ  \n",
       "4                                               পটকা মাছ  \n",
       "...                                                  ...  \n",
       "43996                                হিরো আলম এগিয়ে যাও  \n",
       "43997  হিরো আলমকে সাপোর্ট দেওয়ার জন্য অসংখ্য ধন্যবাদ...  \n",
       "43998                          হিরো ভাই তুমি এগিয়ে য়াও  \n",
       "43999    হুম ভাও তোমরা এগিয়ে যাও আমরা তোমাদের পিছনে আছি  \n",
       "44000            হ্যালো তোমাদের সাথে কি আমাকে চ্যাট করবে  \n",
       "\n",
       "[44001 rows x 3 columns]"
      ]
     },
     "execution_count": 13,
     "metadata": {},
     "output_type": "execute_result"
    }
   ],
   "source": [
    "df"
   ]
  },
  {
   "cell_type": "markdown",
   "metadata": {},
   "source": [
    "# Label Encoding"
   ]
  },
  {
   "cell_type": "markdown",
   "metadata": {},
   "source": [
    "As we can see that the dataset have 5 labels, we performed multiclass classification"
   ]
  },
  {
   "cell_type": "code",
   "execution_count": 14,
   "metadata": {},
   "outputs": [],
   "source": [
    "# Encode labels (multiclass)\n",
    "label_map = {'not bully':0, 'religious':1, 'sexual':2, 'troll':3, 'threat':4}\n",
    "df['encoded_label'] = df['label'].map(label_map)"
   ]
  },
  {
   "cell_type": "code",
   "execution_count": 15,
   "metadata": {},
   "outputs": [
    {
     "data": {
      "text/html": [
       "<div>\n",
       "<style scoped>\n",
       "    .dataframe tbody tr th:only-of-type {\n",
       "        vertical-align: middle;\n",
       "    }\n",
       "\n",
       "    .dataframe tbody tr th {\n",
       "        vertical-align: top;\n",
       "    }\n",
       "\n",
       "    .dataframe thead th {\n",
       "        text-align: right;\n",
       "    }\n",
       "</style>\n",
       "<table border=\"1\" class=\"dataframe\">\n",
       "  <thead>\n",
       "    <tr style=\"text-align: right;\">\n",
       "      <th></th>\n",
       "      <th>comment</th>\n",
       "      <th>label</th>\n",
       "      <th>processed_text</th>\n",
       "      <th>encoded_label</th>\n",
       "    </tr>\n",
       "  </thead>\n",
       "  <tbody>\n",
       "    <tr>\n",
       "      <th>0</th>\n",
       "      <td>ওই হালার পুত এখন কি মদ খাওয়ার সময় রাতের বেলা...</td>\n",
       "      <td>sexual</td>\n",
       "      <td>ওই হালার পুত এখন কি মদ খাওয়ার সময় রাতের বেলা...</td>\n",
       "      <td>2</td>\n",
       "    </tr>\n",
       "    <tr>\n",
       "      <th>1</th>\n",
       "      <td>ঘরে বসে শুট করতে কেমন লেগেছে? ক্যামেরাতে কে ছি...</td>\n",
       "      <td>not bully</td>\n",
       "      <td>ঘরে বসে শুট করতে কেমন লেগেছে ক্যামেরাতে কে ছিলেন</td>\n",
       "      <td>0</td>\n",
       "    </tr>\n",
       "    <tr>\n",
       "      <th>2</th>\n",
       "      <td>অরে বাবা, এই টা কোন পাগল????</td>\n",
       "      <td>not bully</td>\n",
       "      <td>অরে বাবা এই টা কোন পাগল</td>\n",
       "      <td>0</td>\n",
       "    </tr>\n",
       "    <tr>\n",
       "      <th>3</th>\n",
       "      <td>ক্যাপ্টেন অফ বাংলাদেশ</td>\n",
       "      <td>not bully</td>\n",
       "      <td>ক্যাপ্টেন অফ বাংলাদেশ</td>\n",
       "      <td>0</td>\n",
       "    </tr>\n",
       "    <tr>\n",
       "      <th>4</th>\n",
       "      <td>পটকা মাছ</td>\n",
       "      <td>troll</td>\n",
       "      <td>পটকা মাছ</td>\n",
       "      <td>3</td>\n",
       "    </tr>\n",
       "    <tr>\n",
       "      <th>...</th>\n",
       "      <td>...</td>\n",
       "      <td>...</td>\n",
       "      <td>...</td>\n",
       "      <td>...</td>\n",
       "    </tr>\n",
       "    <tr>\n",
       "      <th>43996</th>\n",
       "      <td>হিরো আলম,, এগিয়ে যাও</td>\n",
       "      <td>not bully</td>\n",
       "      <td>হিরো আলম এগিয়ে যাও</td>\n",
       "      <td>0</td>\n",
       "    </tr>\n",
       "    <tr>\n",
       "      <th>43997</th>\n",
       "      <td>হিরো আলমকে সাপোর্ট দেওয়ার জন্য অসংখ্য ধন্যবাদ...</td>\n",
       "      <td>not bully</td>\n",
       "      <td>হিরো আলমকে সাপোর্ট দেওয়ার জন্য অসংখ্য ধন্যবাদ...</td>\n",
       "      <td>0</td>\n",
       "    </tr>\n",
       "    <tr>\n",
       "      <th>43998</th>\n",
       "      <td>হিরো ভাই তুমি এগিয়ে য়াও</td>\n",
       "      <td>not bully</td>\n",
       "      <td>হিরো ভাই তুমি এগিয়ে য়াও</td>\n",
       "      <td>0</td>\n",
       "    </tr>\n",
       "    <tr>\n",
       "      <th>43999</th>\n",
       "      <td>হুম ভাও তোমরা এগিয়ে যাও আমরা তোমাদের পিছনে আছি</td>\n",
       "      <td>not bully</td>\n",
       "      <td>হুম ভাও তোমরা এগিয়ে যাও আমরা তোমাদের পিছনে আছি</td>\n",
       "      <td>0</td>\n",
       "    </tr>\n",
       "    <tr>\n",
       "      <th>44000</th>\n",
       "      <td>হ্যালো তোমাদের সাথে কি আমাকে চ্যাট করবে</td>\n",
       "      <td>not bully</td>\n",
       "      <td>হ্যালো তোমাদের সাথে কি আমাকে চ্যাট করবে</td>\n",
       "      <td>0</td>\n",
       "    </tr>\n",
       "  </tbody>\n",
       "</table>\n",
       "<p>44001 rows × 4 columns</p>\n",
       "</div>"
      ],
      "text/plain": [
       "                                                 comment      label  \\\n",
       "0      ওই হালার পুত এখন কি মদ খাওয়ার সময় রাতের বেলা...     sexual   \n",
       "1      ঘরে বসে শুট করতে কেমন লেগেছে? ক্যামেরাতে কে ছি...  not bully   \n",
       "2                           অরে বাবা, এই টা কোন পাগল????  not bully   \n",
       "3                                  ক্যাপ্টেন অফ বাংলাদেশ  not bully   \n",
       "4                                               পটকা মাছ      troll   \n",
       "...                                                  ...        ...   \n",
       "43996                               হিরো আলম,, এগিয়ে যাও  not bully   \n",
       "43997  হিরো আলমকে সাপোর্ট দেওয়ার জন্য অসংখ্য ধন্যবাদ...  not bully   \n",
       "43998                            হিরো ভাই তুমি এগিয়ে য়াও  not bully   \n",
       "43999     হুম ভাও তোমরা এগিয়ে যাও আমরা তোমাদের পিছনে আছি  not bully   \n",
       "44000            হ্যালো তোমাদের সাথে কি আমাকে চ্যাট করবে  not bully   \n",
       "\n",
       "                                          processed_text  encoded_label  \n",
       "0      ওই হালার পুত এখন কি মদ খাওয়ার সময় রাতের বেলা...              2  \n",
       "1       ঘরে বসে শুট করতে কেমন লেগেছে ক্যামেরাতে কে ছিলেন              0  \n",
       "2                                অরে বাবা এই টা কোন পাগল              0  \n",
       "3                                  ক্যাপ্টেন অফ বাংলাদেশ              0  \n",
       "4                                               পটকা মাছ              3  \n",
       "...                                                  ...            ...  \n",
       "43996                                হিরো আলম এগিয়ে যাও              0  \n",
       "43997  হিরো আলমকে সাপোর্ট দেওয়ার জন্য অসংখ্য ধন্যবাদ...              0  \n",
       "43998                          হিরো ভাই তুমি এগিয়ে য়াও              0  \n",
       "43999    হুম ভাও তোমরা এগিয়ে যাও আমরা তোমাদের পিছনে আছি              0  \n",
       "44000            হ্যালো তোমাদের সাথে কি আমাকে চ্যাট করবে              0  \n",
       "\n",
       "[44001 rows x 4 columns]"
      ]
     },
     "execution_count": 15,
     "metadata": {},
     "output_type": "execute_result"
    }
   ],
   "source": [
    "df"
   ]
  },
  {
   "cell_type": "markdown",
   "metadata": {},
   "source": [
    "# Saving Preprocessed Dataset"
   ]
  },
  {
   "cell_type": "code",
   "execution_count": 16,
   "metadata": {},
   "outputs": [],
   "source": [
    "df.to_csv('D:\\\\Technohaven\\\\Bangla BERT\\\\data\\\\Bangla-Text-Dataset-Processed.csv', index=False)"
   ]
  },
  {
   "cell_type": "markdown",
   "metadata": {},
   "source": [
    "# Train-Test Split (80-20 Ratio)"
   ]
  },
  {
   "cell_type": "code",
   "execution_count": 17,
   "metadata": {},
   "outputs": [],
   "source": [
    "# Train-test split (80/20)\n",
    "X = df['processed_text']\n",
    "y = df['encoded_label']\n",
    "X_train_raw, X_test_raw, y_train, y_test = train_test_split(\n",
    "    df['processed_text'], df['encoded_label'], test_size=0.2, random_state=42, stratify=y)"
   ]
  },
  {
   "cell_type": "markdown",
   "metadata": {},
   "source": [
    "# **Bangla BERT Pretrained Tokenizer and Model**"
   ]
  },
  {
   "cell_type": "code",
   "execution_count": 18,
   "metadata": {},
   "outputs": [
    {
     "name": "stderr",
     "output_type": "stream",
     "text": [
      "Some weights of BertForSequenceClassification were not initialized from the model checkpoint at sagorsarker/bangla-bert-base and are newly initialized: ['classifier.bias', 'classifier.weight']\n",
      "You should probably TRAIN this model on a down-stream task to be able to use it for predictions and inference.\n"
     ]
    }
   ],
   "source": [
    "# Bangla-BERT fine-tuning\n",
    "# Tokenizer and model\n",
    "model_name = 'sagorsarker/bangla-bert-base'\n",
    "tokenizer = AutoTokenizer.from_pretrained(model_name)\n",
    "model = AutoModelForSequenceClassification.from_pretrained(model_name, num_labels=len(label_map))"
   ]
  },
  {
   "cell_type": "markdown",
   "metadata": {},
   "source": [
    "# Tokenizing Train-Test"
   ]
  },
  {
   "cell_type": "code",
   "execution_count": 19,
   "metadata": {},
   "outputs": [],
   "source": [
    "# Create Dataset class\n",
    "class BanglaDataset(Dataset):\n",
    "    def __init__(self, texts, labels, tokenizer, max_len=128):\n",
    "        self.texts = texts.tolist()\n",
    "        self.labels = labels.tolist()\n",
    "        self.tokenizer = tokenizer\n",
    "        self.max_len = max_len\n",
    "\n",
    "    def __len__(self):\n",
    "        return len(self.texts)\n",
    "\n",
    "    def __getitem__(self, idx):\n",
    "        enc = self.tokenizer(\n",
    "            self.texts[idx],\n",
    "            truncation=True,\n",
    "            padding='max_length',\n",
    "            max_length=self.max_len,\n",
    "            return_tensors='pt'\n",
    "        )\n",
    "        item = {key: val.squeeze(0) for key, val in enc.items()}\n",
    "        item['labels'] = torch.tensor(self.labels[idx], dtype=torch.long)\n",
    "        return item"
   ]
  },
  {
   "cell_type": "code",
   "execution_count": 20,
   "metadata": {},
   "outputs": [],
   "source": [
    "# Prepare train and test datasets\n",
    "train_dataset = BanglaDataset(X_train_raw, y_train, tokenizer)\n",
    "test_dataset = BanglaDataset(X_test_raw, y_test, tokenizer)"
   ]
  },
  {
   "cell_type": "markdown",
   "metadata": {},
   "source": [
    "# **Evaluation Matrics**"
   ]
  },
  {
   "cell_type": "code",
   "execution_count": 21,
   "metadata": {},
   "outputs": [],
   "source": [
    "# Define compute_metrics for evaluation\n",
    "def compute_metrics(p: EvalPrediction):\n",
    "    preds = p.predictions.argmax(-1)\n",
    "    return {\n",
    "        'accuracy': (preds == p.label_ids).mean(),\n",
    "        **{\n",
    "            metric: score\n",
    "            for metric, score in zip(\n",
    "                ['precision', 'recall', 'f1'],\n",
    "                [\n",
    "                    *precision_recall_fscore_support(p.label_ids, preds, average='weighted')[:3]\n",
    "                ]\n",
    "            )\n",
    "        }\n",
    "    }"
   ]
  },
  {
   "cell_type": "markdown",
   "metadata": {},
   "source": [
    "# Hyperparameter Tuning/Fine-tuning Bangla BERT"
   ]
  },
  {
   "cell_type": "code",
   "execution_count": 22,
   "metadata": {},
   "outputs": [],
   "source": [
    "# Training arguments\n",
    "training_args = TrainingArguments(\n",
    "    output_dir='./results',\n",
    "    num_train_epochs=5,\n",
    "    per_device_train_batch_size=32,\n",
    "    per_device_eval_batch_size=32,\n",
    "    eval_strategy='epoch',\n",
    "    save_strategy='epoch',\n",
    "    logging_dir='./logs',\n",
    "    learning_rate=2e-5,\n",
    "    weight_decay=0.01\n",
    ")"
   ]
  },
  {
   "cell_type": "code",
   "execution_count": 23,
   "metadata": {},
   "outputs": [],
   "source": [
    "# Initialize Trainer with eval_dataset\n",
    "trainer = Trainer(\n",
    "    model=model,\n",
    "    args=training_args,\n",
    "    train_dataset=train_dataset,\n",
    "    eval_dataset=test_dataset,\n",
    "    compute_metrics=compute_metrics\n",
    ")"
   ]
  },
  {
   "cell_type": "code",
   "execution_count": 24,
   "metadata": {},
   "outputs": [
    {
     "data": {
      "text/html": [
       "\n",
       "    <div>\n",
       "      \n",
       "      <progress value='5500' max='5500' style='width:300px; height:20px; vertical-align: middle;'></progress>\n",
       "      [5500/5500 40:58, Epoch 5/5]\n",
       "    </div>\n",
       "    <table border=\"1\" class=\"dataframe\">\n",
       "  <thead>\n",
       " <tr style=\"text-align: left;\">\n",
       "      <th>Epoch</th>\n",
       "      <th>Training Loss</th>\n",
       "      <th>Validation Loss</th>\n",
       "      <th>Accuracy</th>\n",
       "      <th>Precision</th>\n",
       "      <th>Recall</th>\n",
       "      <th>F1</th>\n",
       "    </tr>\n",
       "  </thead>\n",
       "  <tbody>\n",
       "    <tr>\n",
       "      <td>1</td>\n",
       "      <td>0.567100</td>\n",
       "      <td>0.504563</td>\n",
       "      <td>0.827974</td>\n",
       "      <td>0.829618</td>\n",
       "      <td>0.827974</td>\n",
       "      <td>0.827893</td>\n",
       "    </tr>\n",
       "    <tr>\n",
       "      <td>2</td>\n",
       "      <td>0.415300</td>\n",
       "      <td>0.467695</td>\n",
       "      <td>0.842404</td>\n",
       "      <td>0.842358</td>\n",
       "      <td>0.842404</td>\n",
       "      <td>0.841899</td>\n",
       "    </tr>\n",
       "    <tr>\n",
       "      <td>3</td>\n",
       "      <td>0.296100</td>\n",
       "      <td>0.529420</td>\n",
       "      <td>0.842745</td>\n",
       "      <td>0.843418</td>\n",
       "      <td>0.842745</td>\n",
       "      <td>0.841331</td>\n",
       "    </tr>\n",
       "    <tr>\n",
       "      <td>4</td>\n",
       "      <td>0.207300</td>\n",
       "      <td>0.589285</td>\n",
       "      <td>0.837518</td>\n",
       "      <td>0.836913</td>\n",
       "      <td>0.837518</td>\n",
       "      <td>0.837034</td>\n",
       "    </tr>\n",
       "    <tr>\n",
       "      <td>5</td>\n",
       "      <td>0.134800</td>\n",
       "      <td>0.654078</td>\n",
       "      <td>0.837859</td>\n",
       "      <td>0.837953</td>\n",
       "      <td>0.837859</td>\n",
       "      <td>0.837807</td>\n",
       "    </tr>\n",
       "  </tbody>\n",
       "</table><p>"
      ],
      "text/plain": [
       "<IPython.core.display.HTML object>"
      ]
     },
     "metadata": {},
     "output_type": "display_data"
    },
    {
     "data": {
      "text/plain": [
       "TrainOutput(global_step=5500, training_loss=0.3443330189098011, metrics={'train_runtime': 2459.4495, 'train_samples_per_second': 71.561, 'train_steps_per_second': 2.236, 'total_flos': 1.1577198268416e+16, 'train_loss': 0.3443330189098011, 'epoch': 5.0})"
      ]
     },
     "execution_count": 24,
     "metadata": {},
     "output_type": "execute_result"
    }
   ],
   "source": [
    "# Train model\n",
    "trainer.train()"
   ]
  },
  {
   "cell_type": "markdown",
   "metadata": {},
   "source": [
    "# **Saving the Model**"
   ]
  },
  {
   "cell_type": "code",
   "execution_count": 25,
   "metadata": {},
   "outputs": [
    {
     "data": {
      "text/plain": [
       "('models\\\\tokenizer_config.json',\n",
       " 'models\\\\special_tokens_map.json',\n",
       " 'models\\\\vocab.txt',\n",
       " 'models\\\\added_tokens.json',\n",
       " 'models\\\\tokenizer.json')"
      ]
     },
     "execution_count": 25,
     "metadata": {},
     "output_type": "execute_result"
    }
   ],
   "source": [
    "# Save the model\n",
    "trainer.save_model('models')\n",
    "tokenizer.save_pretrained('models')"
   ]
  },
  {
   "cell_type": "markdown",
   "metadata": {},
   "source": [
    "# **Model Evaluation**"
   ]
  },
  {
   "cell_type": "code",
   "execution_count": 26,
   "metadata": {},
   "outputs": [
    {
     "data": {
      "text/html": [],
      "text/plain": [
       "<IPython.core.display.HTML object>"
      ]
     },
     "metadata": {},
     "output_type": "display_data"
    },
    {
     "name": "stdout",
     "output_type": "stream",
     "text": [
      "{'eval_loss': 0.6540782451629639, 'eval_accuracy': 0.837859334166572, 'eval_precision': 0.8379526103803294, 'eval_recall': 0.837859334166572, 'eval_f1': 0.8378067305205876, 'eval_runtime': 33.8585, 'eval_samples_per_second': 259.935, 'eval_steps_per_second': 8.152, 'epoch': 5.0}\n"
     ]
    }
   ],
   "source": [
    "# Evaluate the model\n",
    "results = trainer.evaluate()\n",
    "print(results)"
   ]
  },
  {
   "cell_type": "code",
   "execution_count": 27,
   "metadata": {},
   "outputs": [],
   "source": [
    "# Evaluation on test set\n",
    "preds_output = trainer.predict(test_dataset)\n",
    "preds = preds_output.predictions.argmax(-1)"
   ]
  },
  {
   "cell_type": "markdown",
   "metadata": {},
   "source": [
    "# **Classification Report**"
   ]
  },
  {
   "cell_type": "code",
   "execution_count": 28,
   "metadata": {},
   "outputs": [
    {
     "name": "stdout",
     "output_type": "stream",
     "text": [
      "              precision    recall  f1-score   support\n",
      "\n",
      "   not bully    0.85682   0.85626   0.85654      3068\n",
      "   religious    0.92074   0.92013   0.92044      1515\n",
      "      sexual    0.83690   0.83315   0.83502      1786\n",
      "       troll    0.76380   0.78022   0.77192      2093\n",
      "      threat    0.76066   0.68437   0.72050       339\n",
      "\n",
      "    accuracy                        0.83786      8801\n",
      "   macro avg    0.82778   0.81482   0.82088      8801\n",
      "weighted avg    0.83795   0.83786   0.83781      8801\n",
      "\n"
     ]
    }
   ],
   "source": [
    "# Print BERT results\n",
    "print(classification_report(y_test, preds, target_names=label_map.keys(), digits=5))"
   ]
  },
  {
   "cell_type": "markdown",
   "metadata": {},
   "source": [
    "# **Confusion Matrix**"
   ]
  },
  {
   "cell_type": "code",
   "execution_count": 29,
   "metadata": {},
   "outputs": [
    {
     "data": {
      "image/png": "[encoded data removed]",
      "text/plain": [
       "<Figure size 500x500 with 2 Axes>"
      ]
     },
     "metadata": {},
     "output_type": "display_data"
    }
   ],
   "source": [
    "# Display confusion matrix\n",
    "cm = confusion_matrix(y_test, preds)\n",
    "plt.figure(figsize=(5, 5))\n",
    "sns.heatmap(cm, annot=True, fmt='d', cmap='Blues', xticklabels=label_map.keys(), yticklabels=label_map.keys())\n",
    "plt.xlabel('Predicted Label')\n",
    "plt.ylabel('True Label')\n",
    "plt.title('Confusion Matrix for Bangla BERT')\n",
    "plt.tight_layout()\n",
    "plt.show()"
   ]
  },
  {
   "cell_type": "code",
   "execution_count": 30,
   "metadata": {},
   "outputs": [
    {
     "data": {
      "text/plain": [
       "BertForSequenceClassification(\n",
       "  (bert): BertModel(\n",
       "    (embeddings): BertEmbeddings(\n",
       "      (word_embeddings): Embedding(102025, 768, padding_idx=0)\n",
       "      (position_embeddings): Embedding(512, 768)\n",
       "      (token_type_embeddings): Embedding(2, 768)\n",
       "      (LayerNorm): LayerNorm((768,), eps=1e-12, elementwise_affine=True)\n",
       "      (dropout): Dropout(p=0.1, inplace=False)\n",
       "    )\n",
       "    (encoder): BertEncoder(\n",
       "      (layer): ModuleList(\n",
       "        (0-11): 12 x BertLayer(\n",
       "          (attention): BertAttention(\n",
       "            (self): BertSdpaSelfAttention(\n",
       "              (query): Linear(in_features=768, out_features=768, bias=True)\n",
       "              (key): Linear(in_features=768, out_features=768, bias=True)\n",
       "              (value): Linear(in_features=768, out_features=768, bias=True)\n",
       "              (dropout): Dropout(p=0.1, inplace=False)\n",
       "            )\n",
       "            (output): BertSelfOutput(\n",
       "              (dense): Linear(in_features=768, out_features=768, bias=True)\n",
       "              (LayerNorm): LayerNorm((768,), eps=1e-12, elementwise_affine=True)\n",
       "              (dropout): Dropout(p=0.1, inplace=False)\n",
       "            )\n",
       "          )\n",
       "          (intermediate): BertIntermediate(\n",
       "            (dense): Linear(in_features=768, out_features=3072, bias=True)\n",
       "            (intermediate_act_fn): GELUActivation()\n",
       "          )\n",
       "          (output): BertOutput(\n",
       "            (dense): Linear(in_features=3072, out_features=768, bias=True)\n",
       "            (LayerNorm): LayerNorm((768,), eps=1e-12, elementwise_affine=True)\n",
       "            (dropout): Dropout(p=0.1, inplace=False)\n",
       "          )\n",
       "        )\n",
       "      )\n",
       "    )\n",
       "    (pooler): BertPooler(\n",
       "      (dense): Linear(in_features=768, out_features=768, bias=True)\n",
       "      (activation): Tanh()\n",
       "    )\n",
       "  )\n",
       "  (dropout): Dropout(p=0.1, inplace=False)\n",
       "  (classifier): Linear(in_features=768, out_features=5, bias=True)\n",
       ")"
      ]
     },
     "execution_count": 30,
     "metadata": {},
     "output_type": "execute_result"
    }
   ],
   "source": [
    "# Export PyTorch model to ONNX\n",
    "# Move model to CPU for ONNX export\n",
    "model.eval()\n",
    "model.cpu()"
   ]
  },
  {
   "cell_type": "code",
   "execution_count": 31,
   "metadata": {},
   "outputs": [],
   "source": [
    "# Create dummy input for export\n",
    "dummy_text = \"আমি ভালো ছেলে।\"\n",
    "enc = tokenizer(dummy_text, truncation=True, padding='max_length', max_length=128, return_tensors='pt')\n",
    "dummy_input_ids = enc['input_ids']\n",
    "dummy_attention_mask = enc['attention_mask']"
   ]
  },
  {
   "cell_type": "markdown",
   "metadata": {},
   "source": [
    "# **Saving the Model into ONNX**"
   ]
  },
  {
   "cell_type": "code",
   "execution_count": null,
   "metadata": {},
   "outputs": [],
   "source": [
    "# Export\n",
    "torch.onnx.export(\n",
    "    model,                                      # model being run\n",
    "    (dummy_input_ids, dummy_attention_mask),    # model input (or a tuple for multiple inputs)\n",
    "    \"models/BanglaBERT_ONNX.onnx\",              # where to save the model\n",
    "    input_names=['input_ids', 'attention_mask'],\n",
    "    output_names=['logits'],\n",
    "    dynamic_axes={\n",
    "        'input_ids': {0: 'batch_size', 1: 'sequence'},\n",
    "        'attention_mask': {0: 'batch_size', 1: 'sequence'},\n",
    "        'logits': {0: 'batch_size'}\n",
    "    },\n",
    "    opset_version=14\n",
    ")"
   ]
  }
 ],
 "metadata": {
  "kernelspec": {
   "display_name": "Knull",
   "language": "python",
   "name": "python3"
  },
  "language_info": {
   "codemirror_mode": {
    "name": "ipython",
    "version": 3
   },
   "file_extension": ".py",
   "mimetype": "text/x-python",
   "name": "python",
   "nbconvert_exporter": "python",
   "pygments_lexer": "ipython3",
   "version": "3.10.16"
  }
 },
 "nbformat": 4,
 "nbformat_minor": 2
}
