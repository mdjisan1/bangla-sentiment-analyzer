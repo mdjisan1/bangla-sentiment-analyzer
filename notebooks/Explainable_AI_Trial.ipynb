{
 "cells": [
  {
   "cell_type": "code",
   "execution_count": null,
   "id": "35fc1db0-7f02-4ea7-979a-48dd9ed53185",
   "metadata": {},
   "outputs": [],
   "source": [
    "!pip install onnxruntime"
   ]
  },
  {
   "cell_type": "code",
   "execution_count": 1,
   "id": "c8e81264-a57f-486b-a553-1e38e6966510",
   "metadata": {},
   "outputs": [],
   "source": [
    "import re\n",
    "import torch\n",
    "import unicodedata\n",
    "import pandas as pd\n",
    "import seaborn as sns\n",
    "import matplotlib.pyplot as plt\n",
    "from torch.utils.data import Dataset\n",
    "from sklearn.model_selection import train_test_split\n",
    "from sklearn.metrics import classification_report, confusion_matrix, precision_recall_fscore_support\n",
    "from transformers import AutoTokenizer, AutoModelForSequenceClassification, Trainer, TrainingArguments, EvalPrediction"
   ]
  },
  {
   "cell_type": "code",
   "execution_count": 2,
   "id": "8b914405-1b6d-43c2-bf62-d49431580cb0",
   "metadata": {},
   "outputs": [],
   "source": [
    "# Install if not already installed\n",
    "# !pip install transformers onnxruntime\n",
    "\n",
    "import re\n",
    "import unicodedata\n",
    "import numpy as np\n",
    "import onnxruntime as ort\n",
    "from transformers import AutoTokenizer\n"
   ]
  },
  {
   "cell_type": "code",
   "execution_count": 3,
   "id": "4b939214-0cf6-4d93-855d-9bcd945e23f5",
   "metadata": {},
   "outputs": [],
   "source": [
    "def preprocess_bangla_text(text):\n",
    "    if not isinstance(text, str):\n",
    "        return \"\"\n",
    "    \n",
    "    text = re.sub(r'https?://\\S+|www\\.\\S+', '', text)\n",
    "    emoji_pattern = re.compile(\"[\"u\"\\U0001F600-\\U0001F64F\"\n",
    "                               u\"\\U0001F300-\\U0001F5FF\"\n",
    "                               u\"\\U0001F680-\\U0001F6FF\"\n",
    "                               u\"\\U0001F700-\\U0001F77F\"\n",
    "                               u\"\\U0001F780-\\U0001F7FF\"\n",
    "                               u\"\\U0001F800-\\U0001F8FF\"\n",
    "                               u\"\\U0001F900-\\U0001F9FF\"\n",
    "                               u\"\\U0001FA00-\\U0001FA6F\"\n",
    "                               u\"\\U0001FA70-\\U0001FAFF\"\n",
    "                               u\"\\U00002702-\\U000027B0\"\n",
    "                               u\"\\U000024C2-\\U0001F251\"\n",
    "                               \"]+\", flags=re.UNICODE)\n",
    "    text = emoji_pattern.sub(r'', text)\n",
    "    text = re.sub(r'[^\\w\\s\\u0980-\\u09FF]', '', text)\n",
    "    text = re.sub(r'\\s+', ' ', text).strip()\n",
    "    text = unicodedata.normalize('NFC', text)\n",
    "    return text\n"
   ]
  },
  {
   "cell_type": "code",
   "execution_count": 4,
   "id": "312a3e0d-47d4-4034-87ae-26cf49236eb9",
   "metadata": {},
   "outputs": [],
   "source": [
    "# Load tokenizer\n",
    "TOKENIZER_NAME = 'sagorsarker/bangla-bert-base'\n",
    "tokenizer = AutoTokenizer.from_pretrained(TOKENIZER_NAME)\n",
    "\n",
    "# Load ONNX model\n",
    "MODEL_PATH = 'BanglaBERT_ONNX.onnx'\n",
    "session = ort.InferenceSession(MODEL_PATH)\n"
   ]
  },
  {
   "cell_type": "code",
   "execution_count": 5,
   "id": "4b1b74a0-3739-4275-8904-34a8561d6a08",
   "metadata": {},
   "outputs": [],
   "source": [
    "label_map = {\n",
    "    0: 'not bully',\n",
    "    1: 'religious',\n",
    "    2: 'sexual',\n",
    "    3: 'troll',\n",
    "    4: 'threat'\n",
    "}"
   ]
  },
  {
   "cell_type": "code",
   "execution_count": 7,
   "id": "f0f09389-cbe7-4876-91eb-7be9dda2fd08",
   "metadata": {},
   "outputs": [],
   "source": [
    "def predict_bangla_sentiment(text):\n",
    "    if not text.strip():\n",
    "        return {\"error\": \"Empty input\"}\n",
    "\n",
    "    processed = preprocess_bangla_text(text)\n",
    "    enc = tokenizer(processed, truncation=True, padding='max_length', max_length=128, return_tensors='np')\n",
    "    input_ids = enc['input_ids']\n",
    "    attention_mask = enc['attention_mask']\n",
    "\n",
    "    ort_inputs = {\n",
    "        session.get_inputs()[0].name: input_ids.astype(np.int64),\n",
    "        session.get_inputs()[1].name: attention_mask.astype(np.int64)\n",
    "    }\n",
    "    ort_outs = session.run(None, ort_inputs)\n",
    "    logits = ort_outs[0]\n",
    "    pred_id = int(np.argmax(logits, axis=1)[0])\n",
    "    label = label_map.get(pred_id, \"unknown\")\n",
    "\n",
    "    return {\"label\": label, \"label_id\": pred_id}\n"
   ]
  },
  {
   "cell_type": "code",
   "execution_count": 8,
   "id": "75dd676d-efcd-4c89-bb8e-bd7449d7c7ea",
   "metadata": {},
   "outputs": [
    {
     "name": "stdout",
     "output_type": "stream",
     "text": [
      "{'label': 'not bully', 'label_id': 0}\n"
     ]
    }
   ],
   "source": [
    "test_text = \"এই পণ্যের মান খুবই খারাপ।\"\n",
    "result = predict_bangla_sentiment(test_text)\n",
    "print(result)"
   ]
  },
  {
   "cell_type": "code",
   "execution_count": 12,
   "id": "58113c2b-2771-4589-8682-70012324afe4",
   "metadata": {},
   "outputs": [],
   "source": [
    "label_map = {'not bully': 0, 'religious': 1, 'sexual': 2, 'troll': 3, 'threat': 4}\n",
    "id2label = {v: k for k, v in label_map.items()}"
   ]
  },
  {
   "cell_type": "code",
   "execution_count": 13,
   "id": "6a71acc2-f9ec-4e35-9309-a69e8ac1ebfd",
   "metadata": {},
   "outputs": [],
   "source": [
    "def predict_bangla_text(text):\n",
    "    # Tokenize input text\n",
    "    inputs = tokenizer(\n",
    "        text,\n",
    "        return_tensors='pt',\n",
    "        truncation=True,\n",
    "        padding=True,\n",
    "        max_length=128\n",
    "    )\n",
    "\n",
    "    with torch.no_grad():\n",
    "        outputs = model(**inputs)\n",
    "        logits = outputs.logits\n",
    "        predicted_class_id = torch.argmax(logits, dim=1).item()\n",
    "\n",
    "    return id2label[predicted_class_id]\n"
   ]
  },
  {
   "cell_type": "code",
   "execution_count": 14,
   "id": "a865ee4f-eec2-4a1e-bf2e-5d765431f647",
   "metadata": {},
   "outputs": [
    {
     "ename": "NameError",
     "evalue": "name 'model' is not defined",
     "output_type": "error",
     "traceback": [
      "\u001b[1;31m---------------------------------------------------------------------------\u001b[0m",
      "\u001b[1;31mNameError\u001b[0m                                 Traceback (most recent call last)",
      "Cell \u001b[1;32mIn[14], line 2\u001b[0m\n\u001b[0;32m      1\u001b[0m text \u001b[38;5;241m=\u001b[39m \u001b[38;5;124m\"\u001b[39m\u001b[38;5;124mওই হালার পুত এখন কি মদ খাওয়ার সময়\u001b[39m\u001b[38;5;124m\"\u001b[39m\n\u001b[1;32m----> 2\u001b[0m prediction \u001b[38;5;241m=\u001b[39m predict_bangla_text(text)\n\u001b[0;32m      3\u001b[0m \u001b[38;5;28mprint\u001b[39m(\u001b[38;5;124m\"\u001b[39m\u001b[38;5;124mPredicted label:\u001b[39m\u001b[38;5;124m\"\u001b[39m, prediction)\n",
      "Cell \u001b[1;32mIn[13], line 12\u001b[0m, in \u001b[0;36mpredict_bangla_text\u001b[1;34m(text)\u001b[0m\n\u001b[0;32m      3\u001b[0m inputs \u001b[38;5;241m=\u001b[39m tokenizer(\n\u001b[0;32m      4\u001b[0m     text,\n\u001b[0;32m      5\u001b[0m     return_tensors\u001b[38;5;241m=\u001b[39m\u001b[38;5;124m'\u001b[39m\u001b[38;5;124mpt\u001b[39m\u001b[38;5;124m'\u001b[39m,\n\u001b[1;32m   (...)\u001b[0m\n\u001b[0;32m      8\u001b[0m     max_length\u001b[38;5;241m=\u001b[39m\u001b[38;5;241m128\u001b[39m\n\u001b[0;32m      9\u001b[0m )\n\u001b[0;32m     11\u001b[0m \u001b[38;5;28;01mwith\u001b[39;00m torch\u001b[38;5;241m.\u001b[39mno_grad():\n\u001b[1;32m---> 12\u001b[0m     outputs \u001b[38;5;241m=\u001b[39m model(\u001b[38;5;241m*\u001b[39m\u001b[38;5;241m*\u001b[39minputs)\n\u001b[0;32m     13\u001b[0m     logits \u001b[38;5;241m=\u001b[39m outputs\u001b[38;5;241m.\u001b[39mlogits\n\u001b[0;32m     14\u001b[0m     predicted_class_id \u001b[38;5;241m=\u001b[39m torch\u001b[38;5;241m.\u001b[39margmax(logits, dim\u001b[38;5;241m=\u001b[39m\u001b[38;5;241m1\u001b[39m)\u001b[38;5;241m.\u001b[39mitem()\n",
      "\u001b[1;31mNameError\u001b[0m: name 'model' is not defined"
     ]
    }
   ],
   "source": [
    "text = \"ওই হালার পুত এখন কি মদ খাওয়ার সময়\"\n",
    "prediction = predict_bangla_text(text)\n",
    "print(\"Predicted label:\", prediction)\n"
   ]
  },
  {
   "cell_type": "code",
   "execution_count": null,
   "id": "e6d9144a-a3c5-48c5-9fa4-ec61fd3b12e4",
   "metadata": {},
   "outputs": [],
   "source": []
  }
 ],
 "metadata": {
  "kernelspec": {
   "display_name": "Python [conda env:base] *",
   "language": "python",
   "name": "conda-base-py"
  },
  "language_info": {
   "codemirror_mode": {
    "name": "ipython",
    "version": 3
   },
   "file_extension": ".py",
   "mimetype": "text/x-python",
   "name": "python",
   "nbconvert_exporter": "python",
   "pygments_lexer": "ipython3",
   "version": "3.12.7"
  }
 },
 "nbformat": 4,
 "nbformat_minor": 5
}
